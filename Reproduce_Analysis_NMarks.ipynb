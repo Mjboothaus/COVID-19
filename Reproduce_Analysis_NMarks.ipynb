{
  "cells": [
    {
      "metadata": {},
      "cell_type": "markdown",
      "source": "# Reproducing: Modelling Sub-Exponential Growth of COVID-19 in Australia\n\nOriginal paper: Associate Professor Nigel Marks - Saturday, 28 March 2020"
    },
    {
      "metadata": {},
      "cell_type": "markdown",
      "source": "### STATUS: Work-in-progress"
    },
    {
      "metadata": {},
      "cell_type": "markdown",
      "source": "## Imports"
    },
    {
      "metadata": {
        "trusted": true
      },
      "cell_type": "code",
      "source": "# !pip install lmfit",
      "execution_count": null,
      "outputs": []
    },
    {
      "metadata": {
        "trusted": true
      },
      "cell_type": "code",
      "source": "import pandas as pd\nimport numpy as np\nimport matplotlib as plt\nfrom os import listdir\nfrom datetime import timedelta\n\n%matplotlib inline\n\n# Import and suppress warnings",
      "execution_count": 81,
      "outputs": []
    },
    {
      "metadata": {
        "trusted": true
      },
      "cell_type": "code",
      "source": "from numpy import exp, sin\nfrom lmfit import minimize, Parameters",
      "execution_count": 82,
      "outputs": []
    },
    {
      "metadata": {},
      "cell_type": "markdown",
      "source": "## Data"
    },
    {
      "metadata": {},
      "cell_type": "markdown",
      "source": "### Countries"
    },
    {
      "metadata": {
        "trusted": true
      },
      "cell_type": "code",
      "source": "# !unzip covid-19_data_NMarks_4Apr2020.zip",
      "execution_count": null,
      "outputs": []
    },
    {
      "metadata": {},
      "cell_type": "markdown",
      "source": "```Archive:  covid-19_data_NMarks_4Apr2020.zip\n  inflating: au/data.txt             \n  inflating: ca/data.txt             \n  inflating: ch/data.txt             \n  inflating: es/data.txt             \n  inflating: fr/data.txt             \n  inflating: it/data.txt             \n  inflating: pt/data.txt             \n  inflating: uk/data.txt             \n  inflating: us/data.txt  ```"
    },
    {
      "metadata": {
        "trusted": true
      },
      "cell_type": "code",
      "source": "# !ls data",
      "execution_count": null,
      "outputs": []
    },
    {
      "metadata": {},
      "cell_type": "markdown",
      "source": "```au  ca\tch  es\tfr  it\tpt  uk\tus```"
    },
    {
      "metadata": {
        "trusted": true
      },
      "cell_type": "code",
      "source": "# !head -n 10 data/au/data.txt",
      "execution_count": null,
      "outputs": []
    },
    {
      "metadata": {},
      "cell_type": "markdown",
      "source": "```\n3\t40\t\n4\t51\t\n5   59      \n6\t63\t\n7\t73\t\n8\t80\t\n9\t92\n10\t112\t\n11\t127\t\n12\t157 ```"
    },
    {
      "metadata": {
        "trusted": true
      },
      "cell_type": "code",
      "source": "countries = [subdir for subdir in listdir('data/') if len(subdir) <= 2]",
      "execution_count": null,
      "outputs": []
    },
    {
      "metadata": {
        "trusted": true
      },
      "cell_type": "code",
      "source": "countries",
      "execution_count": null,
      "outputs": []
    },
    {
      "metadata": {
        "trusted": true
      },
      "cell_type": "code",
      "source": "data = []\nfor subdir in countries:\n    data.append([subdir, pd.read_table('data/' + subdir + '/data.txt', header=None, delim_whitespace=True, names=['nDay', 'nPeopleInfected'])])\n\n# data[country][data_frame[nDay][nPeopleInfected]]",
      "execution_count": null,
      "outputs": []
    },
    {
      "metadata": {
        "trusted": true
      },
      "cell_type": "code",
      "source": "BASE_DATE = '1-Mar-2020'    # TODO: Need to verify the actual date",
      "execution_count": null,
      "outputs": []
    },
    {
      "metadata": {
        "trusted": true
      },
      "cell_type": "code",
      "source": "# The following is a bit clumsy - should be an array/column method to do this without looping\n\nfor iCountry, subdir in enumerate(listdir('data/')):\n    data[iCountry][1]['Date'] = pd.to_datetime(BASE_DATE)\n    for idx, row in data[iCountry][1].iterrows():\n        data[iCountry][1]['Date'][idx] = data[iCountry][1]['Date'][idx] + pd.DateOffset(days=idx)",
      "execution_count": null,
      "outputs": []
    },
    {
      "metadata": {
        "trusted": true
      },
      "cell_type": "code",
      "source": "# Australian data\n\n# TODO - use Seaborn or Bokeh for better (interactive) charts\n\ndata[0][1].plot(x='Date', y='nPeopleInfected')",
      "execution_count": null,
      "outputs": []
    },
    {
      "metadata": {
        "trusted": true
      },
      "cell_type": "code",
      "source": "data[0][1].head(5)",
      "execution_count": null,
      "outputs": []
    },
    {
      "metadata": {},
      "cell_type": "markdown",
      "source": "### Australian data by State/Territory"
    },
    {
      "metadata": {
        "trusted": true
      },
      "cell_type": "code",
      "source": "!head -n 10 data/covid-19_nsw_data.txt",
      "execution_count": null,
      "outputs": []
    },
    {
      "metadata": {
        "trusted": true
      },
      "cell_type": "code",
      "source": "AusStates_df = pd.read_table('data/covid-19_nsw_data.txt', delim_whitespace=True)",
      "execution_count": null,
      "outputs": []
    },
    {
      "metadata": {
        "trusted": true
      },
      "cell_type": "code",
      "source": "AusStates_df['Date'] = pd.to_datetime(BASE_DATE)",
      "execution_count": null,
      "outputs": []
    },
    {
      "metadata": {
        "trusted": true
      },
      "cell_type": "code",
      "source": "for idx, row in AusStates_df.iterrows():\n        AusStates_df['Date'][idx] = AusStates_df['Date'][idx] + pd.DateOffset(days=idx)",
      "execution_count": null,
      "outputs": []
    },
    {
      "metadata": {
        "trusted": true
      },
      "cell_type": "code",
      "source": "AusStates_df",
      "execution_count": null,
      "outputs": []
    },
    {
      "metadata": {
        "trusted": true
      },
      "cell_type": "code",
      "source": "# TODO: Allow for sensitivity analysis and SMA 2-3 day to smooth reporting biases",
      "execution_count": null,
      "outputs": []
    },
    {
      "metadata": {},
      "cell_type": "markdown",
      "source": "The data is sourced via the author and also available from: https://www.health.gov.au/news/health-alerts/novel-coronavirus-2019-ncov-health-alert/coronavirus-covid-19-current-situation-and-case-numbers and\nhttps://covid19data.com.au."
    },
    {
      "metadata": {},
      "cell_type": "markdown",
      "source": "This site https://www.theguardian.com/australia-news/datablog/ng-interactive/2020/mar/28/coronavirus-australia-map-cases-numbers-stats-how-many-cases-of-covid-19-nsw-maps-victoria-live-data-qld-sa-wa-tas-latest-statistics is another possible source."
    },
    {
      "metadata": {},
      "cell_type": "markdown",
      "source": "Could potentially manually scrape data from here: https://www.theguardian.com/australia-news/datablog/ng-interactive/2020/apr/01/coronavirus-cases-in-australia-map-confirmed-numbers-stats-how-many-cases-of-covid-19-nsw-maps-victoria-live-data-qld-sa-wa-tas-nt-act-latest-statistics-update"
    },
    {
      "metadata": {},
      "cell_type": "markdown",
      "source": "## Theory"
    },
    {
      "metadata": {
        "collapsed": true
      },
      "cell_type": "markdown",
      "source": "When exponential growth is occurring, the system is governed by the differential equation\n\n\\begin{equation*}\n\\frac{dN}{dt} = kN\n\\end{equation*}\n\nfor which the solution can immediately be written in the form\n\n\\begin{equation*}\nN(t) = N_0 \\cdot 2^{t/t_{double}}\n\\end{equation*}\n\nwhere $N$ is the number of infected individuals, $t$ is time measured in days, $N_0$ is the value of $N$ at time $t=0$, and $t_{double}$ is the time taken for the number of infections to double. \n\nAcross Australia, $t_{double}$ is typically around 3 days. For much of March 2020, the above expression provided a good fit to the data for Australia as a whole, as well as for most jurisdictions.\n\nHowever, over the last few days, some of the data began to diverge from a pure exponential, especially in Victoria. Consider the graph below, which attempts to fit a single exponential to the data. Even though the numbers are increasing sharply, as shown in the graph on the left, the behaviour is not purely exponential, as the data cannot be described by a straight line on a log-linear graph. Something else must be going on."
    },
    {
      "metadata": {
        "trusted": true
      },
      "cell_type": "code",
      "source": "# TODO: plots x 2 - # cases VIC vs date (linear/linear) and # cases VIC vs date (log/linear)",
      "execution_count": null,
      "outputs": []
    },
    {
      "metadata": {},
      "cell_type": "markdown",
      "source": "One possible explanation is that the social distancing measures and other actions introduced by the government are starting to be reflected in official figures. \nDue to the incubation period of COVID-19, changes in stimuli take up to 2 weeks to be clearly seen in the number of reported cases. \nThis reflects the phase of the disease known as community transmission, where the virus jumps from person-to-person. \nModifying community behaviour affects the transmission rate, but time must pass to observe the effect."
    },
    {
      "metadata": {},
      "cell_type": "markdown",
      "source": "Since the Australian government does not appear to be following the eradication strategy of the NZ government, it is reasonable to presume that their approach will be one of herd immunity, where the goal is for at least 60% of the population to develop immunity via controlled exposure to the virus. \nFor this strategy to work, it is vital that the hospital system is not overwhelmed, in particular the capacity of intensive care units, or ICUs."
    },
    {
      "metadata": {},
      "cell_type": "markdown",
      "source": "The hospital system can only process sick patients at a fixed rate, and hence the herd immunity strategy relies on the rate of new cases being constant. In other words, even though the rate of change of $N$ is exponential in the early phases of the epidemic, it must be brought under control via measures such as social distancing and varying degrees of lockdown, so that in the near future one has the situation"
    },
    {
      "metadata": {},
      "cell_type": "markdown",
      "source": "\\begin{equation*}\n\\frac{dN}{dt} = \\text{constant}\n\\end{equation*}"
    },
    {
      "metadata": {},
      "cell_type": "markdown",
      "source": "where the specific value of the constant reflects the capacity of the hospital system. Note that this is a function of the length of time that sick individuals need high-level care. For example, a patient admitted to an ICU will typically require 10 days of care."
    },
    {
      "metadata": {},
      "cell_type": "markdown",
      "source": "To develop a simple model of the system, we consider that exponential growth is present until some time $t_1$, after which control measures are introduced so that eventually $dN/dt$ becomes constant. \nIn the Australian context, these measures are being introduced gradually, so let’s assume that the rate of new cases gradually reduces from a rate $R_1$ at time $t_1$ to a constant final rate $f \\times R_1$, where $f$ is a number between 0 and 1, perhaps around 0.5. \nThe simplest expression is that of a decaying exponential, which implies that $dN/dt$ has the form"
    },
    {
      "metadata": {},
      "cell_type": "markdown",
      "source": "\\begin{equation*}\n\\frac{dN}{dt} = f R_1 + (R_1 - f R_1) \\exp \\left[ -0.693 \\frac{t-t_1}{t_{\\text{half}}} \\right]\n\\end{equation*}"
    },
    {
      "metadata": {},
      "cell_type": "markdown",
      "source": "where $t_{\\text{half}}$ controls the rate at which $dN/dt$ is adjusted from $R_1$ to $f R_1$. This situation is shown schematically in the left-hand graph below. Up until time $t_1$ the number of new cases each day (i.e. $dN/dt$) increases exponentially, but after measures are introduced, $dN/dt$ shifts towards a constant value at rate controlled by $t_{\\text{half}}$. In the transition region between $t_1$ and $t_1 + 5 t_{\\text{half}}$ the growth rate is sub-exponential, while for $t > t_1 + 5 t_{\\text{half}}$ we have $dN/dt$ equal to a constant and hence the total number of cases $N$ increases linearly with time, as shown in the right-hand graph. We thus have three regions: (i) exponential, (ii) transition / sub-exponential, and (iii) steady-state / linear."
    },
    {
      "metadata": {
        "trusted": true
      },
      "cell_type": "code",
      "source": "# TODO: Create charts",
      "execution_count": null,
      "outputs": []
    },
    {
      "metadata": {
        "trusted": true
      },
      "cell_type": "markdown",
      "source": "Using this simple model we can write the following formula for $dN/dt$,\n\nTODO: Continue from here (need to use eqnarray environment)\n\n\\begin{equation*}\n\\frac{dN}{dt} = \\frac{1}{t_{double}} N_0 \\times 2^{t/t_{double}}  t < t_1 \n\\end{equation*}"
    },
    {
      "metadata": {},
      "cell_type": "markdown",
      "source": "where the rate $R_1$ at time $t_1$ is given by"
    },
    {
      "metadata": {
        "trusted": true
      },
      "cell_type": "code",
      "source": "# TODO: Add equation",
      "execution_count": null,
      "outputs": []
    },
    {
      "metadata": {},
      "cell_type": "markdown",
      "source": "Integrating the expression above to obtain $N(t)$ yields the expression:\n\nTODO: Insert equation"
    },
    {
      "metadata": {},
      "cell_type": "markdown",
      "source": "giving us a five-parameter model to analyse our Victoria figures (or any other data set), where the unknowns are $N_0$, $t_{\\text{double}}$, $t_1$, $f$ and $t_{\\text{half}}$. Initial testing showed that $t_{\\text{half}}$ was associated with large uncertainties, and hence its value was fixed at 3 days. By making this choice, a robust fit involving just four parameters is obtained. When further data becomes available it will be possible to relax this constraint and fit all five values.\n\n*Question: what (non-linear) fitting technique was used?*"
    },
    {
      "metadata": {},
      "cell_type": "markdown",
      "source": "Try LMFit - https://lmfit.github.io/lmfit-py/intro.html"
    },
    {
      "metadata": {
        "trusted": true
      },
      "cell_type": "code",
      "source": "params = Parameters()\nparams.add('N_0', value=10, vary=False)\nparams.add('t_double', value=0.007, min=0.0)\nparams.add('t_1', value=0.2)\nparams.add('f', value=3.0, max=10)\nparams.add('t_half')    # fixed at 3 days TODO: try relaxing",
      "execution_count": 84,
      "outputs": []
    },
    {
      "metadata": {
        "trusted": true
      },
      "cell_type": "code",
      "source": "# TODO: Define the residual function\n",
      "execution_count": null,
      "outputs": []
    },
    {
      "metadata": {},
      "cell_type": "markdown",
      "source": "Applying this four-parameter model to the Australia data using the gnuplot package produces an excellent fit, suggesting that the assumptions are reasonable. A clear transition to sub-exponential behaviour appears around March 21st for VIC, WA and ACT, while for NSW this occurs a couple of days later. The value of $f$ is around 0.6 across multiple states. The plateau values reveal the steady-state case that needs to be accommodated by the hospital system. Keeping in mind that additional data will improve accuracy, estimates of the steady state number of new cases are 150 per day in NSW, 50 per day in Victoria, 20 per day in WA and 5 per day in the ACT. Overseas statistics suggest around 20% of these cases will require hospitalization and 5% will need intensive care."
    },
    {
      "metadata": {
        "trusted": true
      },
      "cell_type": "code",
      "source": "# TODO: Create chart",
      "execution_count": null,
      "outputs": []
    },
    {
      "metadata": {
        "trusted": true
      },
      "cell_type": "code",
      "source": "",
      "execution_count": null,
      "outputs": []
    },
    {
      "metadata": {
        "trusted": true
      },
      "cell_type": "markdown",
      "source": "As the graph at right shows, similar behavior is seen for other Australian states and Territories. In the case of Tasmania and the Northern Territory, onset of infection was delayed and growth is still in the exponential phase. As further data is collected it will become possible to estimate $t_1$ and hence the final steady-state rate."
    },
    {
      "metadata": {
        "trusted": true
      },
      "cell_type": "code",
      "source": "# TODO: Create chart",
      "execution_count": null,
      "outputs": []
    },
    {
      "metadata": {},
      "cell_type": "markdown",
      "source": "## Summary\n\nThis analysis shows that the COVID-19 epidemic in Australia is being contained and is no longer increasing exponentially in most jurisdictions. This is consistent with control measures producing a constant infection rate."
    },
    {
      "metadata": {
        "trusted": true
      },
      "cell_type": "code",
      "source": "",
      "execution_count": null,
      "outputs": []
    },
    {
      "metadata": {
        "trusted": true
      },
      "cell_type": "code",
      "source": "## Assumptions (and sensistivity to these assumptions)",
      "execution_count": 80,
      "outputs": []
    },
    {
      "metadata": {},
      "cell_type": "markdown",
      "source": "## Appendix: LMFit test example"
    },
    {
      "metadata": {
        "trusted": true
      },
      "cell_type": "code",
      "source": "x = np.linspace(0, 25, 201)",
      "execution_count": 83,
      "outputs": []
    },
    {
      "metadata": {
        "trusted": true
      },
      "cell_type": "code",
      "source": "datar = 1.0",
      "execution_count": 73,
      "outputs": []
    },
    {
      "metadata": {
        "trusted": true
      },
      "cell_type": "code",
      "source": "eps_data = 0.1",
      "execution_count": 74,
      "outputs": []
    },
    {
      "metadata": {
        "trusted": true
      },
      "cell_type": "code",
      "source": "def residual(params, x, datar, eps_data):\n    amp = params['amp']\n    phaseshift = params['phase']\n    freq = params['frequency']\n    decay = params['decay']\n    model = amp * sin(x*freq + phaseshift) * exp(-x*x*decay)\n    return (datar-model) / eps_data",
      "execution_count": 76,
      "outputs": []
    },
    {
      "metadata": {
        "trusted": true
      },
      "cell_type": "code",
      "source": "params = Parameters()\nparams.add('amp', value=10, vary=False)\nparams.add('decay', value=0.007, min=0.0)\nparams.add('phase', value=0.2)\nparams.add('frequency', value=3.0, max=10)",
      "execution_count": 77,
      "outputs": []
    },
    {
      "metadata": {
        "trusted": true
      },
      "cell_type": "code",
      "source": "out = minimize(residual, params, args=(x, datar, eps_data))",
      "execution_count": 78,
      "outputs": []
    },
    {
      "metadata": {
        "trusted": true
      },
      "cell_type": "code",
      "source": "out",
      "execution_count": 79,
      "outputs": [
        {
          "output_type": "execute_result",
          "execution_count": 79,
          "data": {
            "text/html": "<h2>Fit Statistics</h2><table><tr><td>fitting method</td><td>leastsq</td><td></td></tr><tr><td># function evals</td><td>144</td><td></td></tr><tr><td># data points</td><td>201</td><td></td></tr><tr><td># variables</td><td>3</td><td></td></tr><tr><td>chi-square</td><td> 4.1030e-11</td><td></td></tr><tr><td>reduced chi-square</td><td> 2.0722e-13</td><td></td></tr><tr><td>Akaike info crit.</td><td>-5867.22662</td><td></td></tr><tr><td>Bayesian info crit.</td><td>-5857.31670</td><td></td></tr></table><h2>Variables</h2><table><tr><th> name </th><th> value </th><th> initial value </th><th> min </th><th> max </th><th> vary </th></tr><tr><td> amp </td><td>  10.0000000 </td><td> 10 </td><td>        -inf </td><td>         inf </td><td> False </td></tr><tr><td> decay </td><td>  9.6029e-10 </td><td> 0.007 </td><td>  0.00000000 </td><td>         inf </td><td> True </td></tr><tr><td> phase </td><td>  0.10016741 </td><td> 0.2 </td><td>        -inf </td><td>         inf </td><td> True </td></tr><tr><td> frequency </td><td>  2.4128e-09 </td><td> 3.0 </td><td>        -inf </td><td>  10.0000000 </td><td> True </td></tr></table>",
            "text/plain": "<lmfit.minimizer.MinimizerResult at 0x7faa5f564dd8>"
          },
          "metadata": {}
        }
      ]
    },
    {
      "metadata": {
        "trusted": true
      },
      "cell_type": "code",
      "source": "",
      "execution_count": null,
      "outputs": []
    }
  ],
  "metadata": {
    "kernelspec": {
      "name": "python36",
      "display_name": "Python 3.6",
      "language": "python"
    },
    "language_info": {
      "mimetype": "text/x-python",
      "nbconvert_exporter": "python",
      "name": "python",
      "pygments_lexer": "ipython3",
      "version": "3.6.6",
      "file_extension": ".py",
      "codemirror_mode": {
        "version": 3,
        "name": "ipython"
      }
    }
  },
  "nbformat": 4,
  "nbformat_minor": 2
}